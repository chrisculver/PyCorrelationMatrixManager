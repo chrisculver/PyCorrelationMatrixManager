{
 "cells": [
  {
   "cell_type": "markdown",
   "metadata": {},
   "source": [
    "# Pion Correlator"
   ]
  },
  {
   "cell_type": "code",
   "execution_count": 4,
   "metadata": {},
   "outputs": [
    {
     "name": "stdout",
     "output_type": "stream",
     "text": [
      "The autoreload extension is already loaded. To reload it, use:\n",
      "  %reload_ext autoreload\n"
     ]
    }
   ],
   "source": [
    "# Avoids reloading kernel while developing\n",
    "%load_ext autoreload\n",
    "%autoreload 2"
   ]
  },
  {
   "cell_type": "code",
   "execution_count": 5,
   "metadata": {},
   "outputs": [
    {
     "data": {
      "text/latex": [
       "$\\displaystyle 1\\gamma^5_{s_0 s_1}\\delta_{c_0 c_1}\\bar{u}_{s_0 c_0}(t_i, x_0)d_{s_1 c_1}(t_i, x_0)$"
      ],
      "text/plain": [
       "<IPython.core.display.Math object>"
      ]
     },
     "metadata": {},
     "output_type": "display_data"
    },
    {
     "data": {
      "text/latex": [
       "$\\displaystyle 1\\gamma^5_{s_2 s_3}\\delta_{c_2 c_3}\\bar{d}_{s_2 c_2}(t_f, x_1)u_{s_3 c_3}(t_f, x_1)$"
      ],
      "text/plain": [
       "<IPython.core.display.Math object>"
      ]
     },
     "metadata": {},
     "output_type": "display_data"
    }
   ],
   "source": [
    "from PyCorrelationMatrixManager.correlation_matrix import CorrelationMatrix\n",
    "from make_ops import *\n",
    "\n",
    "#pretty latex printing\n",
    "from IPython.display import display, Math \n",
    "pprint = lambda o : display(Math(str(o)))\n",
    "\n",
    "create=[create_pion_op()]\n",
    "annihilate=[annihilate_pion_op()]\n",
    "\n",
    "gammas=[]\n",
    "\n",
    "pprint(create[0])\n",
    "pprint(annihilate[0])\n",
    "\n",
    "\n",
    "cmat = CorrelationMatrix(create, annihilate, gammas, [0], [0])"
   ]
  },
  {
   "cell_type": "code",
   "execution_count": 6,
   "metadata": {},
   "outputs": [
    {
     "name": "stdout",
     "output_type": "stream",
     "text": [
      "TODO: This can be massively improved\n",
      "      For now just tells you the full calculation\n",
      "TODO: Need to handle momenta and baryon flavor!\n"
     ]
    },
    {
     "ename": "RuntimeError",
     "evalue": "Failed to load all diagram values",
     "output_type": "error",
     "traceback": [
      "\u001b[0;31m---------------------------------------------------------------------------\u001b[0m",
      "\u001b[0;31mKeyError\u001b[0m                                  Traceback (most recent call last)",
      "File \u001b[0;32m~/Code/LQCD/PyCorrelationMatrixManager/PyCorrelationMatrixManager/correlation_matrix.py:60\u001b[0m, in \u001b[0;36mCorrelationMatrix.run\u001b[0;34m(self)\u001b[0m\n\u001b[1;32m     <a href='file:///home/chris/Code/LQCD/PyCorrelationMatrixManager/PyCorrelationMatrixManager/correlation_matrix.py?line=58'>59</a>\u001b[0m \u001b[39mtry\u001b[39;00m:\n\u001b[0;32m---> <a href='file:///home/chris/Code/LQCD/PyCorrelationMatrixManager/PyCorrelationMatrixManager/correlation_matrix.py?line=59'>60</a>\u001b[0m     \u001b[39mself\u001b[39;49m\u001b[39m.\u001b[39;49mload_diagram_values(data\u001b[39m.\u001b[39;49mdiagram_data)\n\u001b[1;32m     <a href='file:///home/chris/Code/LQCD/PyCorrelationMatrixManager/PyCorrelationMatrixManager/correlation_matrix.py?line=60'>61</a>\u001b[0m     \u001b[39mself\u001b[39m\u001b[39m.\u001b[39mcompute_correlators()\n",
      "File \u001b[0;32m~/Code/LQCD/PyCorrelationMatrixManager/PyCorrelationMatrixManager/correlation_matrix.py:163\u001b[0m, in \u001b[0;36mCorrelationMatrix.load_diagram_values\u001b[0;34m(self, data)\u001b[0m\n\u001b[1;32m    <a href='file:///home/chris/Code/LQCD/PyCorrelationMatrixManager/PyCorrelationMatrixManager/correlation_matrix.py?line=161'>162</a>\u001b[0m \u001b[39mfor\u001b[39;00m c \u001b[39min\u001b[39;00m \u001b[39mself\u001b[39m\u001b[39m.\u001b[39mcorrelators:\n\u001b[0;32m--> <a href='file:///home/chris/Code/LQCD/PyCorrelationMatrixManager/PyCorrelationMatrixManager/correlation_matrix.py?line=162'>163</a>\u001b[0m     c\u001b[39m.\u001b[39;49mload_diagram_values(data)\n",
      "File \u001b[0;32m~/Code/LQCD/PyCorrelationMatrixManager/PyCorrelationMatrixManager/correlator.py:45\u001b[0m, in \u001b[0;36mCorrelator.load_diagram_values\u001b[0;34m(self, data)\u001b[0m\n\u001b[1;32m     <a href='file:///home/chris/Code/LQCD/PyCorrelationMatrixManager/PyCorrelationMatrixManager/correlator.py?line=43'>44</a>\u001b[0m \u001b[39mfor\u001b[39;00m d \u001b[39min\u001b[39;00m \u001b[39mself\u001b[39m\u001b[39m.\u001b[39mdiagrams:\n\u001b[0;32m---> <a href='file:///home/chris/Code/LQCD/PyCorrelationMatrixManager/PyCorrelationMatrixManager/correlator.py?line=44'>45</a>\u001b[0m     d\u001b[39m.\u001b[39mvalue \u001b[39m=\u001b[39m data[d\u001b[39m.\u001b[39;49mname()]\n",
      "\u001b[0;31mKeyError\u001b[0m: 'M(t_f,x_1,\\\\gamma^5)_{2 0}M(t_i,x_0,\\\\gamma^5)_{0 2}'",
      "\nDuring handling of the above exception, another exception occurred:\n",
      "\u001b[0;31mRuntimeError\u001b[0m                              Traceback (most recent call last)",
      "Cell \u001b[0;32mIn[6], line 1\u001b[0m\n\u001b[0;32m----> 1\u001b[0m \u001b[43mcmat\u001b[49m\u001b[38;5;241;43m.\u001b[39;49m\u001b[43mrun\u001b[49m\u001b[43m(\u001b[49m\u001b[43m)\u001b[49m\n",
      "File \u001b[0;32m~/Code/LQCD/PyCorrelationMatrixManager/PyCorrelationMatrixManager/correlation_matrix.py:71\u001b[0m, in \u001b[0;36mCorrelationMatrix.run\u001b[0;34m(self)\u001b[0m\n\u001b[1;32m     <a href='file:///home/chris/Code/LQCD/PyCorrelationMatrixManager/PyCorrelationMatrixManager/correlation_matrix.py?line=67'>68</a>\u001b[0m     create_input_file(\u001b[39mstr\u001b[39m(\u001b[39mlen\u001b[39m(\u001b[39mself\u001b[39m\u001b[39m.\u001b[39mget_all_diagrams())),\u001b[39mself\u001b[39m\u001b[39m.\u001b[39mgammas)\n\u001b[1;32m     <a href='file:///home/chris/Code/LQCD/PyCorrelationMatrixManager/PyCorrelationMatrixManager/correlation_matrix.py?line=68'>69</a>\u001b[0m     create_diagram_names_file(\u001b[39mself\u001b[39m\u001b[39m.\u001b[39mget_all_diagrams())\n\u001b[0;32m---> <a href='file:///home/chris/Code/LQCD/PyCorrelationMatrixManager/PyCorrelationMatrixManager/correlation_matrix.py?line=70'>71</a>\u001b[0m     \u001b[39mraise\u001b[39;00m \u001b[39mRuntimeError\u001b[39;00m(\u001b[39m\"\u001b[39m\u001b[39mFailed to load all diagram values\u001b[39m\u001b[39m\"\u001b[39m)\n\u001b[1;32m     <a href='file:///home/chris/Code/LQCD/PyCorrelationMatrixManager/PyCorrelationMatrixManager/correlation_matrix.py?line=72'>73</a>\u001b[0m \u001b[39mtry\u001b[39;00m:\n\u001b[1;32m     <a href='file:///home/chris/Code/LQCD/PyCorrelationMatrixManager/PyCorrelationMatrixManager/correlation_matrix.py?line=73'>74</a>\u001b[0m     \u001b[39mself\u001b[39m\u001b[39m.\u001b[39msave_corrs_to_files()\n",
      "\u001b[0;31mRuntimeError\u001b[0m: Failed to load all diagram values"
     ]
    }
   ],
   "source": [
    "cmat.run()"
   ]
  },
  {
   "cell_type": "code",
   "execution_count": null,
   "metadata": {},
   "outputs": [],
   "source": []
  }
 ],
 "metadata": {
  "interpreter": {
   "hash": "c8d68fb5c21a4214dd5a6a13117f82199c640d7d02a884ddca486aa724deaf3c"
  },
  "kernelspec": {
   "display_name": "Python 3.9.12 ('LQCD')",
   "language": "python",
   "name": "python3"
  },
  "language_info": {
   "codemirror_mode": {
    "name": "ipython",
    "version": 3
   },
   "file_extension": ".py",
   "mimetype": "text/x-python",
   "name": "python",
   "nbconvert_exporter": "python",
   "pygments_lexer": "ipython3",
   "version": "3.9.17"
  },
  "orig_nbformat": 4
 },
 "nbformat": 4,
 "nbformat_minor": 2
}
