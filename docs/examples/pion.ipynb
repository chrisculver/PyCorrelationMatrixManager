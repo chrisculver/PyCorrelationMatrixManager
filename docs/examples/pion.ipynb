{
 "cells": [
  {
   "cell_type": "markdown",
   "metadata": {},
   "source": [
    "# Pion Correlator"
   ]
  },
  {
   "cell_type": "code",
   "execution_count": 3,
   "metadata": {},
   "outputs": [
    {
     "name": "stdout",
     "output_type": "stream",
     "text": [
      "1\\gamma^5_{s_0 s_1}\\delta_{c_0 c_1}\\bar{u}_{s_0 c_0}(t_0, x_0)d_{s_1 c_1}(t_0, x_0)\n",
      "1\\gamma^5_{s_2 s_3}\\delta_{c_2 c_3}\\bar{d}_{s_2 c_2}(t_1, x_1)u_{s_3 c_3}(t_1, x_1)\n"
     ]
    }
   ],
   "source": [
    "from PyCorrelationMatrixManager.correlation_matrix import CorrelationMatrix\n",
    "from make_ops import *\n",
    "\n",
    "create=[create_pion_op()]\n",
    "annihilate=[annihilate_pion_op()]\n",
    "\n",
    "gammas=[]\n",
    "\n",
    "print(create[0])\n",
    "print(annihilate[0])\n",
    "\n",
    "\n",
    "cmat = CorrelationMatrix(create, annihilate, gammas, [0], [0])"
   ]
  },
  {
   "cell_type": "code",
   "execution_count": 4,
   "metadata": {},
   "outputs": [
    {
     "name": "stdout",
     "output_type": "stream",
     "text": [
      "TODO: This can be massively improved\n",
      "      For now just tells you the full calculation\n"
     ]
    },
    {
     "ename": "KeyError",
     "evalue": "'M(t_0,x_0,\\\\gamma^5)'",
     "output_type": "error",
     "traceback": [
      "\u001b[0;31m---------------------------------------------------------------------------\u001b[0m",
      "\u001b[0;31mKeyError\u001b[0m                                  Traceback (most recent call last)",
      "File \u001b[0;32m~/Code/LQCD/PyCorrelationMatrixManager/PyCorrelationMatrixManager/correlation_matrix.py:60\u001b[0m, in \u001b[0;36mCorrelationMatrix.run\u001b[0;34m(self)\u001b[0m\n\u001b[1;32m     59\u001b[0m \u001b[39mtry\u001b[39;00m:\n\u001b[0;32m---> 60\u001b[0m     \u001b[39mself\u001b[39;49m\u001b[39m.\u001b[39;49mload_diagram_values(data\u001b[39m.\u001b[39;49mdiagram_data)\n\u001b[1;32m     61\u001b[0m     \u001b[39mself\u001b[39m\u001b[39m.\u001b[39mcompute_correlators()\n",
      "File \u001b[0;32m~/Code/LQCD/PyCorrelationMatrixManager/PyCorrelationMatrixManager/correlation_matrix.py:163\u001b[0m, in \u001b[0;36mCorrelationMatrix.load_diagram_values\u001b[0;34m(self, data)\u001b[0m\n\u001b[1;32m    162\u001b[0m \u001b[39mfor\u001b[39;00m c \u001b[39min\u001b[39;00m \u001b[39mself\u001b[39m\u001b[39m.\u001b[39mcorrelators:\n\u001b[0;32m--> 163\u001b[0m     c\u001b[39m.\u001b[39;49mload_diagram_values(data)\n",
      "File \u001b[0;32m~/Code/LQCD/PyCorrelationMatrixManager/PyCorrelationMatrixManager/correlator.py:45\u001b[0m, in \u001b[0;36mCorrelator.load_diagram_values\u001b[0;34m(self, data)\u001b[0m\n\u001b[1;32m     44\u001b[0m \u001b[39mfor\u001b[39;00m d \u001b[39min\u001b[39;00m \u001b[39mself\u001b[39m\u001b[39m.\u001b[39mdiagrams:\n\u001b[0;32m---> 45\u001b[0m     d\u001b[39m.\u001b[39mvalue \u001b[39m=\u001b[39m data[d\u001b[39m.\u001b[39;49mname()]\n",
      "\u001b[0;31mKeyError\u001b[0m: 'M(t_1,x_1,\\\\gamma^5)_{2 0}M(t_0,x_0,\\\\gamma^5)_{0 2}'",
      "\nDuring handling of the above exception, another exception occurred:\n",
      "\u001b[0;31mKeyError\u001b[0m                                  Traceback (most recent call last)",
      "\u001b[1;32m/home/chris/Code/LQCD/PyCorrelationMatrixManager/docs/examples/pion.ipynb Cell 3\u001b[0m in \u001b[0;36m1\n\u001b[0;32m----> <a href='vscode-notebook-cell:/home/chris/Code/LQCD/PyCorrelationMatrixManager/docs/examples/pion.ipynb#W1sZmlsZQ%3D%3D?line=0'>1</a>\u001b[0m cmat\u001b[39m.\u001b[39;49mrun()\n",
      "File \u001b[0;32m~/Code/LQCD/PyCorrelationMatrixManager/PyCorrelationMatrixManager/correlation_matrix.py:67\u001b[0m, in \u001b[0;36mCorrelationMatrix.run\u001b[0;34m(self)\u001b[0m\n\u001b[1;32m     64\u001b[0m \u001b[39mprint\u001b[39m(\u001b[39m\"\u001b[39m\u001b[39m      For now just tells you the full calculation\u001b[39m\u001b[39m\"\u001b[39m)\n\u001b[1;32m     66\u001b[0m allBaryonTensors, allBaryonSinks, allBaryonProps \u001b[39m=\u001b[39m \u001b[39mself\u001b[39m\u001b[39m.\u001b[39mget_baryon_tensor_dictionaries()\n\u001b[0;32m---> 67\u001b[0m create_diagram_gpu_file(\u001b[39mself\u001b[39;49m\u001b[39m.\u001b[39;49mget_all_diagrams(), allBaryonTensors, allBaryonSinks, allBaryonProps)    \n\u001b[1;32m     68\u001b[0m create_input_file(\u001b[39mstr\u001b[39m(\u001b[39mlen\u001b[39m(\u001b[39mself\u001b[39m\u001b[39m.\u001b[39mget_all_diagrams())),\u001b[39mself\u001b[39m\u001b[39m.\u001b[39mgammas)\n\u001b[1;32m     69\u001b[0m create_diagram_names_file(\u001b[39mself\u001b[39m\u001b[39m.\u001b[39mget_all_diagrams())\n",
      "File \u001b[0;32m~/Code/LQCD/PyCorrelationMatrixManager/PyCorrelationMatrixManager/cpp_print_utilities.py:63\u001b[0m, in \u001b[0;36mcreate_diagram_gpu_file\u001b[0;34m(laphDiagrams, allBaryonTensors, allBaryonSinks, allBaryonProps)\u001b[0m\n\u001b[1;32m     61\u001b[0m \u001b[39melse\u001b[39;00m: \n\u001b[1;32m     62\u001b[0m     b0type\u001b[39m=\u001b[39m\u001b[39m'\u001b[39m\u001b[39mbsinks\u001b[39m\u001b[39m'\u001b[39m\n\u001b[0;32m---> 63\u001b[0m     b0Idx\u001b[39m=\u001b[39mallBaryonSinks[block0]\n\u001b[1;32m     65\u001b[0m \u001b[39mif\u001b[39;00m block1[\u001b[39m0\u001b[39m:\u001b[39m3\u001b[39m]\u001b[39m==\u001b[39m\u001b[39m\"\u001b[39m\u001b[39mB^*\u001b[39m\u001b[39m\"\u001b[39m:\n\u001b[1;32m     66\u001b[0m     b1type\u001b[39m=\u001b[39m\u001b[39m'\u001b[39m\u001b[39mbprops\u001b[39m\u001b[39m'\u001b[39m\n",
      "\u001b[0;31mKeyError\u001b[0m: 'M(t_0,x_0,\\\\gamma^5)'"
     ]
    }
   ],
   "source": [
    "cmat.run()"
   ]
  },
  {
   "cell_type": "code",
   "execution_count": null,
   "metadata": {},
   "outputs": [],
   "source": []
  }
 ],
 "metadata": {
  "interpreter": {
   "hash": "c8d68fb5c21a4214dd5a6a13117f82199c640d7d02a884ddca486aa724deaf3c"
  },
  "kernelspec": {
   "display_name": "Python 3.9.12 ('LQCD')",
   "language": "python",
   "name": "python3"
  },
  "language_info": {
   "codemirror_mode": {
    "name": "ipython",
    "version": 3
   },
   "file_extension": ".py",
   "mimetype": "text/x-python",
   "name": "python",
   "nbconvert_exporter": "python",
   "pygments_lexer": "ipython3",
   "version": "3.10.12"
  },
  "orig_nbformat": 4
 },
 "nbformat": 4,
 "nbformat_minor": 2
}
