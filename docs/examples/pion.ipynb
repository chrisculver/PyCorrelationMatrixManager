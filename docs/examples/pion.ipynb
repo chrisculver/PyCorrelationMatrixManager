{
 "cells": [
  {
   "cell_type": "code",
   "execution_count": 1,
   "metadata": {},
   "outputs": [
    {
     "name": "stdout",
     "output_type": "stream",
     "text": [
      "1\\gamma^5_{s_0 s_1}\\delta_{c_0 c_1}\\bar{u}_{s_0 c_0}(t_0, x_0)d_{s_1 c_1}(t_0, x_0)\n",
      "1\\gamma^5_{s_2 s_3}\\delta_{c_2 c_3}\\bar{d}_{s_2 c_2}(t_1, x_1)u_{s_3 c_3}(t_1, x_1)\n"
     ]
    }
   ],
   "source": [
    "from PyCorrelationMatrixManager.correlation_matrix import CorrelationMatrix\n",
    "from make_ops import *\n",
    "\n",
    "create=[create_pion_op()]\n",
    "annihilate=[annihilate_pion_op()]\n",
    "\n",
    "gammas=[]\n",
    "\n",
    "print(create[0])\n",
    "print(annihilate[0])\n",
    "\n",
    "\n",
    "cmat = CorrelationMatrix(create, annihilate, gammas, [0], [0], 0)"
   ]
  },
  {
   "cell_type": "code",
   "execution_count": 2,
   "metadata": {},
   "outputs": [
    {
     "name": "stdout",
     "output_type": "stream",
     "text": [
      "T has different kinds of V's in it...\n",
      "T has different kinds of V's in it...\n"
     ]
    },
    {
     "ename": "RuntimeError",
     "evalue": "Failed to LapHify diagrams...",
     "output_type": "error",
     "traceback": [
      "\u001b[0;31m---------------------------------------------------------------------------\u001b[0m",
      "\u001b[0;31mAttributeError\u001b[0m                            Traceback (most recent call last)",
      "File \u001b[0;32m~/Code/LQCD/PyCorrelationMatrixManager/PyCorrelationMatrixManager/correlation_matrix.py:46\u001b[0m, in \u001b[0;36mCorrelationMatrix.run\u001b[0;34m(self)\u001b[0m\n\u001b[1;32m     <a href='file:///home/chris/Code/LQCD/PyCorrelationMatrixManager/PyCorrelationMatrixManager/correlation_matrix.py?line=44'>45</a>\u001b[0m \u001b[39mtry\u001b[39;00m:\n\u001b[0;32m---> <a href='file:///home/chris/Code/LQCD/PyCorrelationMatrixManager/PyCorrelationMatrixManager/correlation_matrix.py?line=45'>46</a>\u001b[0m     \u001b[39mself\u001b[39;49m\u001b[39m.\u001b[39;49mlaphify()\n\u001b[1;32m     <a href='file:///home/chris/Code/LQCD/PyCorrelationMatrixManager/PyCorrelationMatrixManager/correlation_matrix.py?line=46'>47</a>\u001b[0m \u001b[39mexcept\u001b[39;00m:\n",
      "File \u001b[0;32m~/Code/LQCD/PyCorrelationMatrixManager/PyCorrelationMatrixManager/correlation_matrix.py:91\u001b[0m, in \u001b[0;36mCorrelationMatrix.laphify\u001b[0;34m(self)\u001b[0m\n\u001b[1;32m     <a href='file:///home/chris/Code/LQCD/PyCorrelationMatrixManager/PyCorrelationMatrixManager/correlation_matrix.py?line=89'>90</a>\u001b[0m \u001b[39mfor\u001b[39;00m c \u001b[39min\u001b[39;00m \u001b[39mself\u001b[39m\u001b[39m.\u001b[39mcorrelators:\n\u001b[0;32m---> <a href='file:///home/chris/Code/LQCD/PyCorrelationMatrixManager/PyCorrelationMatrixManager/correlation_matrix.py?line=90'>91</a>\u001b[0m     c\u001b[39m.\u001b[39;49mlaphify()\n",
      "File \u001b[0;32m~/Code/LQCD/PyCorrelationMatrixManager/PyCorrelationMatrixManager/correlator.py:21\u001b[0m, in \u001b[0;36mCorrelator.laphify\u001b[0;34m(self)\u001b[0m\n\u001b[1;32m     <a href='file:///home/chris/Code/LQCD/PyCorrelationMatrixManager/PyCorrelationMatrixManager/correlator.py?line=19'>20</a>\u001b[0m     d\u001b[39m.\u001b[39mcreate_baryon_blocks()\n\u001b[0;32m---> <a href='file:///home/chris/Code/LQCD/PyCorrelationMatrixManager/PyCorrelationMatrixManager/correlator.py?line=20'>21</a>\u001b[0m     d\u001b[39m.\u001b[39;49mcombine_indices()\n\u001b[1;32m     <a href='file:///home/chris/Code/LQCD/PyCorrelationMatrixManager/PyCorrelationMatrixManager/correlator.py?line=22'>23</a>\u001b[0m \u001b[39m# the below has no guarantee to be NC agnostic nor work for any multi meson&baryon operator\u001b[39;00m\n",
      "File \u001b[0;32m~/anaconda3/envs/LQCD/lib/python3.9/site-packages/WickContractions/laph/diagram.py:161\u001b[0m, in \u001b[0;36mLDiagram.combine_indices\u001b[0;34m(self)\u001b[0m\n\u001b[1;32m    <a href='file:///home/chris/anaconda3/envs/LQCD/lib/python3.9/site-packages/WickContractions/laph/diagram.py?line=158'>159</a>\u001b[0m         \u001b[39m#\"TODO: Check that one and only one other index matches\")\u001b[39;00m\n\u001b[0;32m--> <a href='file:///home/chris/anaconda3/envs/LQCD/lib/python3.9/site-packages/WickContractions/laph/diagram.py?line=160'>161</a>\u001b[0m     new_commuting\u001b[39m.\u001b[39mappend( IndexedFunction(c\u001b[39m.\u001b[39mname,new_indices,c\u001b[39m.\u001b[39;49marguments) )\n\u001b[1;32m    <a href='file:///home/chris/anaconda3/envs/LQCD/lib/python3.9/site-packages/WickContractions/laph/diagram.py?line=162'>163</a>\u001b[0m \u001b[39mself\u001b[39m\u001b[39m.\u001b[39mcommuting\u001b[39m=\u001b[39mnew_commuting\n",
      "\u001b[0;31mAttributeError\u001b[0m: 'SpinMatrix' object has no attribute 'arguments'",
      "\nDuring handling of the above exception, another exception occurred:\n",
      "\u001b[0;31mRuntimeError\u001b[0m                              Traceback (most recent call last)",
      "\u001b[1;32m/home/chris/Code/LQCD/PyCorrelationMatrixManager/examples/pion.ipynb Cell 2'\u001b[0m in \u001b[0;36m<cell line: 1>\u001b[0;34m()\u001b[0m\n\u001b[0;32m----> <a href='vscode-notebook-cell:/home/chris/Code/LQCD/PyCorrelationMatrixManager/examples/pion.ipynb#ch0000001?line=0'>1</a>\u001b[0m cmat\u001b[39m.\u001b[39;49mrun()\n",
      "File \u001b[0;32m~/Code/LQCD/PyCorrelationMatrixManager/PyCorrelationMatrixManager/correlation_matrix.py:48\u001b[0m, in \u001b[0;36mCorrelationMatrix.run\u001b[0;34m(self)\u001b[0m\n\u001b[1;32m     <a href='file:///home/chris/Code/LQCD/PyCorrelationMatrixManager/PyCorrelationMatrixManager/correlation_matrix.py?line=45'>46</a>\u001b[0m     \u001b[39mself\u001b[39m\u001b[39m.\u001b[39mlaphify()\n\u001b[1;32m     <a href='file:///home/chris/Code/LQCD/PyCorrelationMatrixManager/PyCorrelationMatrixManager/correlation_matrix.py?line=46'>47</a>\u001b[0m \u001b[39mexcept\u001b[39;00m:\n\u001b[0;32m---> <a href='file:///home/chris/Code/LQCD/PyCorrelationMatrixManager/PyCorrelationMatrixManager/correlation_matrix.py?line=47'>48</a>\u001b[0m     \u001b[39mraise\u001b[39;00m \u001b[39mRuntimeError\u001b[39;00m(\u001b[39m\"\u001b[39m\u001b[39mFailed to LapHify diagrams...\u001b[39m\u001b[39m\"\u001b[39m)\n\u001b[1;32m     <a href='file:///home/chris/Code/LQCD/PyCorrelationMatrixManager/PyCorrelationMatrixManager/correlation_matrix.py?line=49'>50</a>\u001b[0m \u001b[39mtry\u001b[39;00m: \n\u001b[1;32m     <a href='file:///home/chris/Code/LQCD/PyCorrelationMatrixManager/PyCorrelationMatrixManager/correlation_matrix.py?line=50'>51</a>\u001b[0m     data \u001b[39m=\u001b[39m DiagramData(\u001b[39mself\u001b[39m\u001b[39m.\u001b[39mdfiles, \u001b[39mself\u001b[39m\u001b[39m.\u001b[39mcfg)\n",
      "\u001b[0;31mRuntimeError\u001b[0m: Failed to LapHify diagrams..."
     ]
    }
   ],
   "source": [
    "cmat.run()"
   ]
  },
  {
   "cell_type": "code",
   "execution_count": null,
   "metadata": {},
   "outputs": [],
   "source": []
  }
 ],
 "metadata": {
  "interpreter": {
   "hash": "c8d68fb5c21a4214dd5a6a13117f82199c640d7d02a884ddca486aa724deaf3c"
  },
  "kernelspec": {
   "display_name": "Python 3.9.12 ('LQCD')",
   "language": "python",
   "name": "python3"
  },
  "language_info": {
   "codemirror_mode": {
    "name": "ipython",
    "version": 3
   },
   "file_extension": ".py",
   "mimetype": "text/x-python",
   "name": "python",
   "nbconvert_exporter": "python",
   "pygments_lexer": "ipython3",
   "version": "3.9.12"
  },
  "orig_nbformat": 4
 },
 "nbformat": 4,
 "nbformat_minor": 2
}
