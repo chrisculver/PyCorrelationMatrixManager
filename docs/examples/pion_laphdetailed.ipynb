{
 "cells": [
  {
   "cell_type": "markdown",
   "metadata": {},
   "source": [
    "# Detailed Pion Correlator\n",
    "\n",
    "This notebook is to help explain each step of the CorrelationMatrix.run function."
   ]
  },
  {
   "cell_type": "code",
   "execution_count": 1,
   "metadata": {},
   "outputs": [],
   "source": [
    "# Avoids reloading kernel while developing\n",
    "%load_ext autoreload\n",
    "%autoreload 2"
   ]
  },
  {
   "cell_type": "code",
   "execution_count": 30,
   "metadata": {},
   "outputs": [
    {
     "data": {
      "text/latex": [
       "$\\displaystyle 1\\gamma^5_{s_0 s_1}\\delta_{c_0 c_1}\\bar{u}_{s_0 c_0}(t_i, x_0)d_{s_1 c_1}(t_i, x_0)$"
      ],
      "text/plain": [
       "<IPython.core.display.Math object>"
      ]
     },
     "metadata": {},
     "output_type": "display_data"
    },
    {
     "data": {
      "text/latex": [
       "$\\displaystyle 1\\gamma^5_{s_2 s_3}\\delta_{c_2 c_3}\\bar{d}_{s_2 c_2}(t_f, x_1)u_{s_3 c_3}(t_f, x_1)$"
      ],
      "text/plain": [
       "<IPython.core.display.Math object>"
      ]
     },
     "metadata": {},
     "output_type": "display_data"
    }
   ],
   "source": [
    "from PyCorrelationMatrixManager.correlation_matrix import CorrelationMatrix\n",
    "from WickContractions.laph.diagram import LDiagram\n",
    "from make_ops import *\n",
    "\n",
    "#pretty latex printing\n",
    "from IPython.display import display, Math \n",
    "pprint = lambda o : display(Math(str(o)))\n",
    "\n",
    "creation_ops=[create_pion_op()]\n",
    "annihilation_ops=[annihilate_pion_op()]\n",
    "\n",
    "pprint(creation_ops[0])\n",
    "pprint(annihilation_ops[0])\n",
    "\n",
    "import copy\n",
    "\n",
    "cmat = CorrelationMatrix(creation_ops, annihilation_ops, \n",
    "                        dts=[0], t0s=[0], cfg=0)"
   ]
  },
  {
   "cell_type": "markdown",
   "metadata": {},
   "source": [
    "First we perform the wick contractions on the correlation matrix, this fills all of the Correlator objects with an array of Diagram objects, according to Wick's theorem."
   ]
  },
  {
   "cell_type": "code",
   "execution_count": 31,
   "metadata": {},
   "outputs": [
    {
     "data": {
      "text/latex": [
       "$\\displaystyle -1.0 \\delta_{c_0 c_1}\\delta_{c_2 c_3}\\gamma^5_{s_0 s_1}\\gamma^5_{s_2 s_3}D^{-1}_{u}(t_f,x_1\\mid t_i,x_0)_{\\substack{s_3\\\\c_3}\\substack{s_0\\\\c_0}}D^{-1}_{d}(t_i,x_0\\mid t_f,x_1)_{\\substack{s_1\\\\c_1}\\substack{s_2\\\\c_2}}$"
      ],
      "text/plain": [
       "<IPython.core.display.Math object>"
      ]
     },
     "metadata": {},
     "output_type": "display_data"
    }
   ],
   "source": [
    "cmat.contract()\n",
    "for d in cmat.correlators[0].diagrams:\n",
    "    pprint(d)"
   ]
  },
  {
   "cell_type": "markdown",
   "metadata": {},
   "source": [
    "Next we change the Diagram objects to LDiagram objects, or LapH diagrams, using the following rules\n",
    "\n",
    "$$\n",
    "    D^{-1}_u(t_f,x_1\\mid t_i,x_0)_{\\substack{s_3\\\\c_3}\\substack{s_0\\\\c_0}} \\rightarrow V^*(t_f,x_1)_{c_3l_3}\\tau(t_f,x_1\\mid t_i,x_0)_{\\substack{s_3\\\\l_3}\\substack{s_0\\\\c_0}} V(t_i,x_0)_{c_0,l_0}\n",
    "$$\n",
    "which is the same result we would've gotten if we applied the LapH smearing operator directly to the quarks."
   ]
  },
  {
   "cell_type": "code",
   "execution_count": 32,
   "metadata": {},
   "outputs": [
    {
     "data": {
      "text/latex": [
       "$\\displaystyle -1.0 \\delta_{c_0 c_1}\\delta_{c_2 c_3}\\gamma^5_{s_0 s_1}\\gamma^5_{s_2 s_3}V*(t_f,x_1)_{c_3 l_3}V(t_i,x_0)_{c_0 l_0}V*(t_i,x_0)_{c_1 l_1}V(t_f,x_1)_{c_2 l_2}\\tau(t_f,x_1\\mid t_i,x_0)_{\\substack{s_3\\\\l_3}\\substack{s_0\\\\l_0}}\\tau(t_i,x_0\\mid t_f,x_1)_{\\substack{s_1\\\\l_1}\\substack{s_2\\\\l_2}}$"
      ],
      "text/plain": [
       "<IPython.core.display.Math object>"
      ]
     },
     "metadata": {},
     "output_type": "display_data"
    }
   ],
   "source": [
    "for i,d in enumerate(copy.deepcopy(cmat.correlators[0].diagrams)):\n",
    "    cmat.correlators[0].diagrams[i]=LDiagram(d)\n",
    "    \n",
    "for d in cmat.correlators[0].diagrams:    \n",
    "    pprint(d)"
   ]
  },
  {
   "cell_type": "markdown",
   "metadata": {},
   "source": [
    "Now we combine the eigenvectors and color functions into the functions\n",
    "\n",
    "$$\n",
    "    m(t,x)_{l_0l_1}=\\delta_{c_0c_1}V(t,x)_{c_0l_0}V^*(t,x)_{c_1l_1} \\\\\n",
    "    b(t,x)=\\epsilon_{c_0c_1c_2}V(t,x)_{c_0 l_0}V(t,x)_{c_1 l_1}V(t,x)_{c_2 l_2} \\\\\n",
    "    b^*(t,x) = \\epsilon_{c_0c_1c_2}V^*(t,x)_{c_0 l_0}V^*(t,x)_{c_1 l_1}V^*(t,x)_{c_2 l_2}\n",
    "$$"
   ]
  },
  {
   "cell_type": "code",
   "execution_count": 33,
   "metadata": {},
   "outputs": [
    {
     "data": {
      "text/latex": [
       "$\\displaystyle -1.0 \\gamma^5_{s_0 s_1}\\gamma^5_{s_2 s_3}m(t_f,x_1)_{l_2 l_3}m(t_i,x_0)_{l_0 l_1}\\tau(t_f,x_1\\mid t_i,x_0)_{\\substack{s_3\\\\l_3}\\substack{s_0\\\\l_0}}\\tau(t_i,x_0\\mid t_f,x_1)_{\\substack{s_1\\\\l_1}\\substack{s_2\\\\l_2}}$"
      ],
      "text/plain": [
       "<IPython.core.display.Math object>"
      ]
     },
     "metadata": {},
     "output_type": "display_data"
    }
   ],
   "source": [
    "for d in cmat.correlators[0].diagrams:\n",
    "    d.create_m_blocks()\n",
    "    d.create_b_blocks()\n",
    "\n",
    "for d in cmat.correlators[0].diagrams:\n",
    "    pprint(d)"
   ]
  },
  {
   "cell_type": "markdown",
   "metadata": {},
   "source": [
    "Now we combine the meson and baryon functions into hadron functions by adding in gamma matrices with the same spin sub indices as the eigenvector sub indices.  We also combine spin and eigenvector indices into a compound index \n",
    "\n",
    "$i=s_iN_v + l_i$\n",
    "\n",
    "$$\n",
    "    M(t,x,\\gamma)_{01}=M(t,x,\\gamma)_{s_0l_0,s_1l_1} = m(t,x)_{l_0l_1}\\gamma_{s_0s_1} \\\\\n",
    "    B(t,x,\\gamma)_{012}=B(t,x,\\gamma)_{s_0l_0,s_1l_1,s_2l_2} = b(t,x)_{l_0l_1l_2}\\gamma_{s_0s_1s_2}\n",
    "$$"
   ]
  },
  {
   "cell_type": "code",
   "execution_count": 34,
   "metadata": {},
   "outputs": [
    {
     "data": {
      "text/latex": [
       "$\\displaystyle -1.0 M(t_f,x_1,\\gamma^5)_{2 3}M(t_i,x_0,\\gamma^5)_{0 1}\\tau(x_1,x_0)_{3,0}\\tau(x_0,x_1)_{1,2}$"
      ],
      "text/plain": [
       "<IPython.core.display.Math object>"
      ]
     },
     "metadata": {},
     "output_type": "display_data"
    }
   ],
   "source": [
    "for d in cmat.correlators[0].diagrams:\n",
    "    d.create_hadron_blocks()\n",
    "    d.combine_indices()\n",
    "\n",
    "for d in cmat.correlators[0].diagrams:\n",
    "    pprint(d)"
   ]
  },
  {
   "cell_type": "markdown",
   "metadata": {},
   "source": [
    "Then we finalize transforming the diagrams by combining the perambulators with the sink hadron blocks\n",
    "\n",
    "$$\n",
    "    H(t_f,t_i,x,\\gamma) = H(t_f,x,\\gamma)\\tau(t_f | t_i)\n",
    "$$"
   ]
  },
  {
   "cell_type": "code",
   "execution_count": 35,
   "metadata": {},
   "outputs": [
    {
     "data": {
      "text/latex": [
       "$\\displaystyle -1.0 M(t_f,x_1,\\gamma^5)_{2 0}M(t_i,x_0,\\gamma^5)_{0 2}$"
      ],
      "text/plain": [
       "<IPython.core.display.Math object>"
      ]
     },
     "metadata": {},
     "output_type": "display_data"
    }
   ],
   "source": [
    "for d in cmat.correlators[0].diagrams:\n",
    "    d.create_hadron_source()\n",
    "\n",
    "for d in cmat.correlators[0].diagrams:\n",
    "    pprint(d)"
   ]
  }
 ],
 "metadata": {
  "interpreter": {
   "hash": "c8d68fb5c21a4214dd5a6a13117f82199c640d7d02a884ddca486aa724deaf3c"
  },
  "kernelspec": {
   "display_name": "Python 3.9.17 ('LQCD')",
   "language": "python",
   "name": "python3"
  },
  "language_info": {
   "codemirror_mode": {
    "name": "ipython",
    "version": 3
   },
   "file_extension": ".py",
   "mimetype": "text/x-python",
   "name": "python",
   "nbconvert_exporter": "python",
   "pygments_lexer": "ipython3",
   "version": "3.9.17"
  },
  "orig_nbformat": 4
 },
 "nbformat": 4,
 "nbformat_minor": 2
}
